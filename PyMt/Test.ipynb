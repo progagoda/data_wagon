{
 "cells": [
  {
   "cell_type": "markdown",
   "metadata": {},
   "source": [
    "## Настраиваем окружение"
   ]
  },
  {
   "cell_type": "code",
   "execution_count": 34,
   "metadata": {},
   "outputs": [],
   "source": [
    "import folium\n",
    "import pandas as pd\n",
    "import numpy as np\n",
    "import webbrowser"
   ]
  },
  {
   "cell_type": "code",
   "execution_count": 35,
   "metadata": {},
   "outputs": [],
   "source": [
    "peregon = pd.read_excel(\"D:\\MyFolder\\\\2.Work\\DataWagon\\PEREGON_HACKATON.xlsx\")\n",
    "station_coord = pd.read_excel(\"D:\\MyFolder\\\\2.Work\\DataWagon\\STATION_COORDS_HACKATON.xlsx\")\n",
    "disl = pd.read_excel(\"D:\\MyFolder\\\\2.Work\\DataWagon\\disl_hackaton.xlsx\")"
   ]
  },
  {
   "cell_type": "code",
   "execution_count": 39,
   "metadata": {},
   "outputs": [],
   "source": [
    "station_coord_cleaned = station_coord.dropna()\n"
   ]
  },
  {
   "cell_type": "markdown",
   "metadata": {},
   "source": [
    "## Проверка идеи"
   ]
  },
  {
   "cell_type": "code",
   "execution_count": 46,
   "metadata": {},
   "outputs": [
    {
     "name": "stdout",
     "output_type": "stream",
     "text": [
      "        WAGNUM            OPERDATE  ST_ID_DISL  ST_ID_DEST TRAIN_INDEX\n",
      "282814    6167 2023-06-12 23:50:00        9465        1227         NaN\n",
      "282820    6167 2023-06-09 14:03:00       16947        1227         NaN\n",
      "283042    6167 2023-06-11 18:52:00        9435        1227         NaN\n",
      "283143    6167 2023-06-10 19:52:00        9448        1227         NaN\n",
      "283650    6273 2023-06-12 23:50:00        9465        1227         NaN\n",
      "283653    6273 2023-06-09 14:03:00       16947        1227         NaN\n",
      "283980    6273 2023-06-11 18:52:00        9435        1227         NaN\n",
      "284097    6273 2023-06-10 19:52:00        9448        1227         NaN\n",
      "287940    7173 2023-06-12 23:50:00        9465        1227         NaN\n",
      "287945    7173 2023-06-09 14:03:00       16947        1227         NaN\n",
      "288283    7173 2023-06-11 18:52:00        9435        1227         NaN\n",
      "288440    7173 2023-06-10 19:52:00        9448        1227         NaN\n",
      "332566    9765 2023-07-22 14:00:00       20695        1561         NaN\n",
      "332582    9765 2023-07-20 16:30:00        5483        1561         NaN\n",
      "332583    9765 2023-07-20 06:35:00        5483        1561         NaN\n"
     ]
    }
   ],
   "source": [
    "# Найти строки с NaN значениями\n",
    "nan_rows = disl[disl.isnull().any(axis=1)]\n",
    "\n",
    "# Вывести найденные строки\n",
    "print(nan_rows)\n"
   ]
  },
  {
   "cell_type": "markdown",
   "metadata": {},
   "source": [
    "## Отрисовка карты"
   ]
  },
  {
   "cell_type": "code",
   "execution_count": 120,
   "metadata": {},
   "outputs": [],
   "source": [
    "# Создаем карту\n",
    "m = folium.Map(tiles=\"Cartodb dark_matter\",location=[station_coord_cleaned['LATITUDE'].mean(), station_coord_cleaned['LONGITUDE'].mean()], zoom_start=5)\n",
    "# Добавляем статичные маркеры (CircleMarker) для каждого объекта\n",
    "for index, row in station_coord_cleaned.iterrows():\n",
    "    folium.CircleMarker(location=[row['LATITUDE'], row['LONGITUDE']],\n",
    "                        radius=1,  # радиус круга (можно настроить)\n",
    "                        color='white',  # цвет круга\n",
    "                        fill=True,\n",
    "                        fill_color='white',  # цвет заливки\n",
    "                        fill_opacity=0.7,  # прозрачность заливки\n",
    "                        popup=row['ST_ID']).add_to(m)\n",
    "# Добавляем линии между соответствующими вершинами\n",
    "\n",
    "for index, row in peregon.iterrows():\n",
    "    start_station = station_coord_cleaned.loc[station_coord_cleaned['ST_ID'] == row['START_CODE']]\n",
    "    end_station = station_coord_cleaned.loc[station_coord_cleaned['ST_ID'] == row['END_CODE']]\n",
    "    \n",
    "    if not start_station.empty and not end_station.empty:\n",
    "        start_coords = [start_station['LATITUDE'].values[0], start_station['LONGITUDE'].values[0]]\n",
    "        end_coords = [end_station['LATITUDE'].values[0], end_station['LONGITUDE'].values[0]]\n",
    "        \n",
    "        folium.PolyLine(locations=[start_coords, end_coords], color='white', weight=2, opacity=0.7).add_to(m)\n",
    "\n",
    "# Сохраняем карту в HTML-файл\n",
    "m.save('base_map.html')"
   ]
  },
  {
   "cell_type": "markdown",
   "metadata": {},
   "source": [
    "## Эмулируем поступление данных"
   ]
  },
  {
   "cell_type": "code",
   "execution_count": 121,
   "metadata": {},
   "outputs": [],
   "source": [
    "# Сортировка данных по столбцу OPERDATE\n",
    "sorted_df = disl.sort_values(by='OPERDATE')\n",
    "\n",
    "# Группировка данных по столбцу OPERDATE\n",
    "grouped_df = sorted_df.groupby('OPERDATE')\n"
   ]
  },
  {
   "cell_type": "code",
   "execution_count": 122,
   "metadata": {},
   "outputs": [],
   "source": [
    "first_data_input = sorted_df[0:100].reset_index()"
   ]
  },
  {
   "cell_type": "code",
   "execution_count": 123,
   "metadata": {},
   "outputs": [],
   "source": [
    "# Преобразуем столбцы с датами в формат datetime\n",
    "first_data_input['OPERDATE'] = pd.to_datetime(first_data_input['OPERDATE'])\n",
    "\n",
    "# 1. Взять самую новую информацию по каждому вагону\n",
    "latest_data = first_data_input.sort_values(by='OPERDATE', ascending=False).groupby('WAGNUM').head(1)\n"
   ]
  },
  {
   "cell_type": "code",
   "execution_count": 94,
   "metadata": {},
   "outputs": [
    {
     "data": {
      "text/html": [
       "<div>\n",
       "<style scoped>\n",
       "    .dataframe tbody tr th:only-of-type {\n",
       "        vertical-align: middle;\n",
       "    }\n",
       "\n",
       "    .dataframe tbody tr th {\n",
       "        vertical-align: top;\n",
       "    }\n",
       "\n",
       "    .dataframe thead th {\n",
       "        text-align: right;\n",
       "    }\n",
       "</style>\n",
       "<table border=\"1\" class=\"dataframe\">\n",
       "  <thead>\n",
       "    <tr style=\"text-align: right;\">\n",
       "      <th></th>\n",
       "      <th>index</th>\n",
       "      <th>WAGNUM</th>\n",
       "      <th>OPERDATE</th>\n",
       "      <th>ST_ID_DISL</th>\n",
       "      <th>ST_ID_DEST</th>\n",
       "      <th>TRAIN_INDEX</th>\n",
       "    </tr>\n",
       "  </thead>\n",
       "  <tbody>\n",
       "    <tr>\n",
       "      <th>99</th>\n",
       "      <td>927468</td>\n",
       "      <td>8837</td>\n",
       "      <td>2023-06-01 00:26:00</td>\n",
       "      <td>1839</td>\n",
       "      <td>2331</td>\n",
       "      <td>16069-088-2331</td>\n",
       "    </tr>\n",
       "    <tr>\n",
       "      <th>98</th>\n",
       "      <td>955631</td>\n",
       "      <td>8482</td>\n",
       "      <td>2023-06-01 00:26:00</td>\n",
       "      <td>1839</td>\n",
       "      <td>2331</td>\n",
       "      <td>16069-088-2331</td>\n",
       "    </tr>\n",
       "    <tr>\n",
       "      <th>92</th>\n",
       "      <td>910813</td>\n",
       "      <td>6444</td>\n",
       "      <td>2023-06-01 00:24:00</td>\n",
       "      <td>13913</td>\n",
       "      <td>2331</td>\n",
       "      <td>16069-096-2331</td>\n",
       "    </tr>\n",
       "    <tr>\n",
       "      <th>86</th>\n",
       "      <td>938027</td>\n",
       "      <td>3090</td>\n",
       "      <td>2023-06-01 00:24:00</td>\n",
       "      <td>13913</td>\n",
       "      <td>2331</td>\n",
       "      <td>16069-096-2331</td>\n",
       "    </tr>\n",
       "    <tr>\n",
       "      <th>87</th>\n",
       "      <td>995705</td>\n",
       "      <td>8625</td>\n",
       "      <td>2023-06-01 00:24:00</td>\n",
       "      <td>13913</td>\n",
       "      <td>2331</td>\n",
       "      <td>16069-096-2331</td>\n",
       "    </tr>\n",
       "    <tr>\n",
       "      <th>...</th>\n",
       "      <td>...</td>\n",
       "      <td>...</td>\n",
       "      <td>...</td>\n",
       "      <td>...</td>\n",
       "      <td>...</td>\n",
       "      <td>...</td>\n",
       "    </tr>\n",
       "    <tr>\n",
       "      <th>24</th>\n",
       "      <td>199914</td>\n",
       "      <td>3342</td>\n",
       "      <td>2023-06-01 00:10:00</td>\n",
       "      <td>710</td>\n",
       "      <td>1221</td>\n",
       "      <td>686-880-1176</td>\n",
       "    </tr>\n",
       "    <tr>\n",
       "      <th>27</th>\n",
       "      <td>101488</td>\n",
       "      <td>3559</td>\n",
       "      <td>2023-06-01 00:10:00</td>\n",
       "      <td>17506</td>\n",
       "      <td>1138</td>\n",
       "      <td>20792-574-20713</td>\n",
       "    </tr>\n",
       "    <tr>\n",
       "      <th>17</th>\n",
       "      <td>9041</td>\n",
       "      <td>576</td>\n",
       "      <td>2023-06-01 00:08:00</td>\n",
       "      <td>1043</td>\n",
       "      <td>113</td>\n",
       "      <td>95-088-1043</td>\n",
       "    </tr>\n",
       "    <tr>\n",
       "      <th>2</th>\n",
       "      <td>340705</td>\n",
       "      <td>6516</td>\n",
       "      <td>2023-06-01 00:00:01</td>\n",
       "      <td>1268</td>\n",
       "      <td>1655</td>\n",
       "      <td>1268-677-1663</td>\n",
       "    </tr>\n",
       "    <tr>\n",
       "      <th>3</th>\n",
       "      <td>339037</td>\n",
       "      <td>5100</td>\n",
       "      <td>2023-06-01 00:00:01</td>\n",
       "      <td>1268</td>\n",
       "      <td>1655</td>\n",
       "      <td>1268-677-1663</td>\n",
       "    </tr>\n",
       "  </tbody>\n",
       "</table>\n",
       "<p>66 rows × 6 columns</p>\n",
       "</div>"
      ],
      "text/plain": [
       "     index  WAGNUM            OPERDATE  ST_ID_DISL  ST_ID_DEST  \\\n",
       "99  927468    8837 2023-06-01 00:26:00        1839        2331   \n",
       "98  955631    8482 2023-06-01 00:26:00        1839        2331   \n",
       "92  910813    6444 2023-06-01 00:24:00       13913        2331   \n",
       "86  938027    3090 2023-06-01 00:24:00       13913        2331   \n",
       "87  995705    8625 2023-06-01 00:24:00       13913        2331   \n",
       "..     ...     ...                 ...         ...         ...   \n",
       "24  199914    3342 2023-06-01 00:10:00         710        1221   \n",
       "27  101488    3559 2023-06-01 00:10:00       17506        1138   \n",
       "17    9041     576 2023-06-01 00:08:00        1043         113   \n",
       "2   340705    6516 2023-06-01 00:00:01        1268        1655   \n",
       "3   339037    5100 2023-06-01 00:00:01        1268        1655   \n",
       "\n",
       "        TRAIN_INDEX  \n",
       "99   16069-088-2331  \n",
       "98   16069-088-2331  \n",
       "92   16069-096-2331  \n",
       "86   16069-096-2331  \n",
       "87   16069-096-2331  \n",
       "..              ...  \n",
       "24     686-880-1176  \n",
       "27  20792-574-20713  \n",
       "17      95-088-1043  \n",
       "2     1268-677-1663  \n",
       "3     1268-677-1663  \n",
       "\n",
       "[66 rows x 6 columns]"
      ]
     },
     "execution_count": 94,
     "metadata": {},
     "output_type": "execute_result"
    }
   ],
   "source": [
    "latest_data"
   ]
  },
  {
   "cell_type": "markdown",
   "metadata": {},
   "source": [
    "## Добавляем на карту поезда"
   ]
  },
  {
   "cell_type": "code",
   "execution_count": 150,
   "metadata": {},
   "outputs": [
    {
     "data": {
      "text/plain": [
       "True"
      ]
     },
     "execution_count": 150,
     "metadata": {},
     "output_type": "execute_result"
    }
   ],
   "source": [
    "for index, row in latest_data.iterrows():\n",
    "    # Добавляем маркер текущего расположения вагона\n",
    "    current_location = station_coord.loc[station_coord['ST_ID'] == row['ST_ID_DISL']]\n",
    "    if not current_location.empty:\n",
    "        popup_html=fr\"\"\"<div >\n",
    "                        Номер поезда: {row['TRAIN_INDEX']}<br> \n",
    "                        Дата обновления: {row[\"OPERDATE\"]}<br>\n",
    "                        ID станции прибытия: {row['ST_ID_DEST']}<br>\n",
    "                        ID текущей станции: {row['ST_ID_DISL']}<br>\n",
    "                        Номер вагона: {row[\"WAGNUM\"]}<br>\n",
    "                        <button onclick=\"addDestinationMarker()\">Добавить маркер пункта назначения</button>\n",
    "                        </div>\"\"\"\n",
    "        folium.Marker(location=[current_location['LATITUDE'].values[0],\n",
    "                                current_location['LONGITUDE'].values[0]],\n",
    "                    popup=folium.Popup(popup_html, min_width=500),\n",
    "                    icon=folium.Icon(color='orange', icon='leaf', prefix='fa')).add_to(m)\n",
    "\n",
    "\n",
    "# Сохраняем карту в HTML-файл\n",
    "m.save('train_map.html')\n",
    "webbrowser.open_new_tab('train_map.html')# открываем полученную карту в браузере"
   ]
  },
  {
   "cell_type": "code",
   "execution_count": 148,
   "metadata": {},
   "outputs": [
    {
     "data": {
      "text/plain": [
       "True"
      ]
     },
     "execution_count": 148,
     "metadata": {},
     "output_type": "execute_result"
    }
   ],
   "source": [
    "# Добавляем HTML-код с кнопкой и скриптом JavaScript\n",
    "html_code = \"\"\"\n",
    "<!DOCTYPE html>\n",
    "<html>\n",
    "<head>\n",
    "    <title>Train Map</title>\n",
    "    <meta charset=\"utf-8\" />\n",
    "    <meta name=\"viewport\" content=\"width=device-width, initial-scale=1.0\">\n",
    "    <!-- Подключаем необходимые библиотеки Folium и Leaflet -->\n",
    "    <link rel=\"stylesheet\" href=\"https://unpkg.com/leaflet/dist/leaflet.css\" />\n",
    "    <script src=\"https://unpkg.com/leaflet/dist/leaflet.js\"></script>\n",
    "</head>\n",
    "<body>\n",
    "    <!-- Добавляем карту -->\n",
    "    <div id=\"map\" style=\"height: 400px;\"></div>\n",
    "\n",
    "    <!-- Добавляем кнопку -->\n",
    "    <button onclick=\"addDestinationMarker()\">Добавить маркер пункта назначения</button>\n",
    "\n",
    "    <script>\n",
    "        // Инициализируем карту\n",
    "        var map = L.map('map').setView([55.7558, 37.6176], 10);\n",
    "\n",
    "        // Добавляем слой карты\n",
    "        L.tileLayer('https://{s}.tile.openstreetmap.org/{z}/{x}/{y}.png', {\n",
    "            attribution: '© OpenStreetMap contributors'\n",
    "        }).addTo(map);\n",
    "\n",
    "        // Функция для добавления маркера пункта назначения\n",
    "        function addDestinationMarker() {\n",
    "            var destinationMarker = L.marker([55.7558, 37.6176]).addTo(map);\n",
    "            destinationMarker.bindPopup('Пункт назначения').openPopup();\n",
    "        }\n",
    "    </script>\n",
    "</body>\n",
    "</html>\n",
    "\"\"\"\n",
    "\n",
    "# Сохраняем HTML-код в файл\n",
    "with open('train_map_with_button.html', 'w', encoding='utf-8') as file:\n",
    "    file.write(html_code)\n",
    "\n",
    "# Открываем созданный файл в браузере\n",
    "webbrowser.open_new_tab('train_map_with_button.html')"
   ]
  },
  {
   "cell_type": "markdown",
   "metadata": {},
   "source": [
    "## Пока не нужный код"
   ]
  },
  {
   "cell_type": "code",
   "execution_count": 51,
   "metadata": {},
   "outputs": [],
   "source": []
  }
 ],
 "metadata": {
  "kernelspec": {
   "display_name": "Python 3",
   "language": "python",
   "name": "python3"
  },
  "language_info": {
   "codemirror_mode": {
    "name": "ipython",
    "version": 3
   },
   "file_extension": ".py",
   "mimetype": "text/x-python",
   "name": "python",
   "nbconvert_exporter": "python",
   "pygments_lexer": "ipython3",
   "version": "3.9.6"
  },
  "orig_nbformat": 4
 },
 "nbformat": 4,
 "nbformat_minor": 2
}
