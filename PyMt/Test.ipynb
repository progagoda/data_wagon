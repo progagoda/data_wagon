{
 "cells": [
  {
   "cell_type": "markdown",
   "metadata": {},
   "source": [
    "## Настраиваем окружение"
   ]
  },
  {
   "cell_type": "code",
   "execution_count": 34,
   "metadata": {},
   "outputs": [],
   "source": [
    "import folium\n",
    "import pandas as pd\n",
    "import numpy as np\n",
    "import webbrowser"
   ]
  },
  {
   "cell_type": "code",
   "execution_count": 35,
   "metadata": {},
   "outputs": [],
   "source": [
    "peregon = pd.read_excel(\"D:\\MyFolder\\\\2.Work\\DataWagon\\PEREGON_HACKATON.xlsx\")\n",
    "station_coord = pd.read_excel(\"D:\\MyFolder\\\\2.Work\\DataWagon\\STATION_COORDS_HACKATON.xlsx\")\n",
    "disl = pd.read_excel(\"D:\\MyFolder\\\\2.Work\\DataWagon\\disl_hackaton.xlsx\")"
   ]
  },
  {
   "cell_type": "code",
   "execution_count": 39,
   "metadata": {},
   "outputs": [],
   "source": [
    "station_coord_cleaned = station_coord.dropna()\n"
   ]
  },
  {
   "cell_type": "markdown",
   "metadata": {},
   "source": [
    "## Проверка идеи"
   ]
  },
  {
   "cell_type": "code",
   "execution_count": 46,
   "metadata": {},
   "outputs": [
    {
     "name": "stdout",
     "output_type": "stream",
     "text": [
      "        WAGNUM            OPERDATE  ST_ID_DISL  ST_ID_DEST TRAIN_INDEX\n",
      "282814    6167 2023-06-12 23:50:00        9465        1227         NaN\n",
      "282820    6167 2023-06-09 14:03:00       16947        1227         NaN\n",
      "283042    6167 2023-06-11 18:52:00        9435        1227         NaN\n",
      "283143    6167 2023-06-10 19:52:00        9448        1227         NaN\n",
      "283650    6273 2023-06-12 23:50:00        9465        1227         NaN\n",
      "283653    6273 2023-06-09 14:03:00       16947        1227         NaN\n",
      "283980    6273 2023-06-11 18:52:00        9435        1227         NaN\n",
      "284097    6273 2023-06-10 19:52:00        9448        1227         NaN\n",
      "287940    7173 2023-06-12 23:50:00        9465        1227         NaN\n",
      "287945    7173 2023-06-09 14:03:00       16947        1227         NaN\n",
      "288283    7173 2023-06-11 18:52:00        9435        1227         NaN\n",
      "288440    7173 2023-06-10 19:52:00        9448        1227         NaN\n",
      "332566    9765 2023-07-22 14:00:00       20695        1561         NaN\n",
      "332582    9765 2023-07-20 16:30:00        5483        1561         NaN\n",
      "332583    9765 2023-07-20 06:35:00        5483        1561         NaN\n"
     ]
    }
   ],
   "source": [
    "# Найти строки с NaN значениями\n",
    "nan_rows = disl[disl.isnull().any(axis=1)]\n",
    "\n",
    "# Вывести найденные строки\n",
    "print(nan_rows)\n"
   ]
  },
  {
   "cell_type": "markdown",
   "metadata": {},
   "source": [
    "## Отрисовка карты"
   ]
  },
  {
   "cell_type": "code",
   "execution_count": 83,
   "metadata": {},
   "outputs": [],
   "source": [
    "# Создаем карту\n",
    "m = folium.Map(tiles=\"Cartodb dark_matter\",location=[station_coord_cleaned['LATITUDE'].mean(), station_coord_cleaned['LONGITUDE'].mean()], zoom_start=5)\n",
    "# Добавляем статичные маркеры (CircleMarker) для каждого объекта\n",
    "for index, row in station_coord_cleaned.iterrows():\n",
    "    folium.CircleMarker(location=[row['LATITUDE'], row['LONGITUDE']],\n",
    "                        radius=1,  # радиус круга (можно настроить)\n",
    "                        color='white',  # цвет круга\n",
    "                        fill=True,\n",
    "                        fill_color='white',  # цвет заливки\n",
    "                        fill_opacity=0.7,  # прозрачность заливки\n",
    "                        popup=row['ST_ID']).add_to(m)\n",
    "# Добавляем линии между соответствующими вершинами\n",
    "\n",
    "for index, row in peregon.iterrows():\n",
    "    start_station = station_coord_cleaned.loc[station_coord_cleaned['ST_ID'] == row['START_CODE']]\n",
    "    end_station = station_coord_cleaned.loc[station_coord_cleaned['ST_ID'] == row['END_CODE']]\n",
    "    \n",
    "    if not start_station.empty and not end_station.empty:\n",
    "        start_coords = [start_station['LATITUDE'].values[0], start_station['LONGITUDE'].values[0]]\n",
    "        end_coords = [end_station['LATITUDE'].values[0], end_station['LONGITUDE'].values[0]]\n",
    "        \n",
    "        folium.PolyLine(locations=[start_coords, end_coords], color='white', weight=2, opacity=0.7).add_to(m)\n",
    "\n",
    "# Сохраняем карту в HTML-файл\n",
    "m.save('base_map.html')"
   ]
  },
  {
   "cell_type": "markdown",
   "metadata": {},
   "source": [
    "## Эмулируем поступление данных"
   ]
  },
  {
   "cell_type": "code",
   "execution_count": 47,
   "metadata": {},
   "outputs": [],
   "source": [
    "# Сортировка данных по столбцу OPERDATE\n",
    "sorted_df = disl.sort_values(by='OPERDATE')\n",
    "\n",
    "# Группировка данных по столбцу OPERDATE\n",
    "grouped_df = sorted_df.groupby('OPERDATE')\n"
   ]
  },
  {
   "cell_type": "code",
   "execution_count": 48,
   "metadata": {},
   "outputs": [],
   "source": [
    "first_data_input = sorted_df[0:100].reset_index()"
   ]
  },
  {
   "cell_type": "code",
   "execution_count": 49,
   "metadata": {},
   "outputs": [
    {
     "data": {
      "text/html": [
       "<div>\n",
       "<style scoped>\n",
       "    .dataframe tbody tr th:only-of-type {\n",
       "        vertical-align: middle;\n",
       "    }\n",
       "\n",
       "    .dataframe tbody tr th {\n",
       "        vertical-align: top;\n",
       "    }\n",
       "\n",
       "    .dataframe thead th {\n",
       "        text-align: right;\n",
       "    }\n",
       "</style>\n",
       "<table border=\"1\" class=\"dataframe\">\n",
       "  <thead>\n",
       "    <tr style=\"text-align: right;\">\n",
       "      <th></th>\n",
       "      <th>index</th>\n",
       "      <th>WAGNUM</th>\n",
       "      <th>OPERDATE</th>\n",
       "      <th>ST_ID_DISL</th>\n",
       "      <th>ST_ID_DEST</th>\n",
       "      <th>TRAIN_INDEX</th>\n",
       "    </tr>\n",
       "  </thead>\n",
       "  <tbody>\n",
       "    <tr>\n",
       "      <th>0</th>\n",
       "      <td>340706</td>\n",
       "      <td>6516</td>\n",
       "      <td>2023-06-01 00:00:00</td>\n",
       "      <td>1268</td>\n",
       "      <td>1655</td>\n",
       "      <td>1268-677-1663</td>\n",
       "    </tr>\n",
       "    <tr>\n",
       "      <th>1</th>\n",
       "      <td>339038</td>\n",
       "      <td>5100</td>\n",
       "      <td>2023-06-01 00:00:00</td>\n",
       "      <td>1268</td>\n",
       "      <td>1655</td>\n",
       "      <td>1268-677-1663</td>\n",
       "    </tr>\n",
       "    <tr>\n",
       "      <th>2</th>\n",
       "      <td>340705</td>\n",
       "      <td>6516</td>\n",
       "      <td>2023-06-01 00:00:01</td>\n",
       "      <td>1268</td>\n",
       "      <td>1655</td>\n",
       "      <td>1268-677-1663</td>\n",
       "    </tr>\n",
       "    <tr>\n",
       "      <th>3</th>\n",
       "      <td>339037</td>\n",
       "      <td>5100</td>\n",
       "      <td>2023-06-01 00:00:01</td>\n",
       "      <td>1268</td>\n",
       "      <td>1655</td>\n",
       "      <td>1268-677-1663</td>\n",
       "    </tr>\n",
       "    <tr>\n",
       "      <th>4</th>\n",
       "      <td>88525</td>\n",
       "      <td>6394</td>\n",
       "      <td>2023-06-01 00:01:00</td>\n",
       "      <td>4576</td>\n",
       "      <td>633</td>\n",
       "      <td>20715-079-20713</td>\n",
       "    </tr>\n",
       "    <tr>\n",
       "      <th>...</th>\n",
       "      <td>...</td>\n",
       "      <td>...</td>\n",
       "      <td>...</td>\n",
       "      <td>...</td>\n",
       "      <td>...</td>\n",
       "      <td>...</td>\n",
       "    </tr>\n",
       "    <tr>\n",
       "      <th>95</th>\n",
       "      <td>984338</td>\n",
       "      <td>3041</td>\n",
       "      <td>2023-06-01 00:24:00</td>\n",
       "      <td>13913</td>\n",
       "      <td>2331</td>\n",
       "      <td>16069-096-2331</td>\n",
       "    </tr>\n",
       "    <tr>\n",
       "      <th>96</th>\n",
       "      <td>923814</td>\n",
       "      <td>8966</td>\n",
       "      <td>2023-06-01 00:24:00</td>\n",
       "      <td>13913</td>\n",
       "      <td>2331</td>\n",
       "      <td>16069-096-2331</td>\n",
       "    </tr>\n",
       "    <tr>\n",
       "      <th>97</th>\n",
       "      <td>88527</td>\n",
       "      <td>6394</td>\n",
       "      <td>2023-06-01 00:24:00</td>\n",
       "      <td>4571</td>\n",
       "      <td>633</td>\n",
       "      <td>20715-079-20713</td>\n",
       "    </tr>\n",
       "    <tr>\n",
       "      <th>98</th>\n",
       "      <td>955631</td>\n",
       "      <td>8482</td>\n",
       "      <td>2023-06-01 00:26:00</td>\n",
       "      <td>1839</td>\n",
       "      <td>2331</td>\n",
       "      <td>16069-088-2331</td>\n",
       "    </tr>\n",
       "    <tr>\n",
       "      <th>99</th>\n",
       "      <td>927468</td>\n",
       "      <td>8837</td>\n",
       "      <td>2023-06-01 00:26:00</td>\n",
       "      <td>1839</td>\n",
       "      <td>2331</td>\n",
       "      <td>16069-088-2331</td>\n",
       "    </tr>\n",
       "  </tbody>\n",
       "</table>\n",
       "<p>100 rows × 6 columns</p>\n",
       "</div>"
      ],
      "text/plain": [
       "     index  WAGNUM            OPERDATE  ST_ID_DISL  ST_ID_DEST  \\\n",
       "0   340706    6516 2023-06-01 00:00:00        1268        1655   \n",
       "1   339038    5100 2023-06-01 00:00:00        1268        1655   \n",
       "2   340705    6516 2023-06-01 00:00:01        1268        1655   \n",
       "3   339037    5100 2023-06-01 00:00:01        1268        1655   \n",
       "4    88525    6394 2023-06-01 00:01:00        4576         633   \n",
       "..     ...     ...                 ...         ...         ...   \n",
       "95  984338    3041 2023-06-01 00:24:00       13913        2331   \n",
       "96  923814    8966 2023-06-01 00:24:00       13913        2331   \n",
       "97   88527    6394 2023-06-01 00:24:00        4571         633   \n",
       "98  955631    8482 2023-06-01 00:26:00        1839        2331   \n",
       "99  927468    8837 2023-06-01 00:26:00        1839        2331   \n",
       "\n",
       "        TRAIN_INDEX  \n",
       "0     1268-677-1663  \n",
       "1     1268-677-1663  \n",
       "2     1268-677-1663  \n",
       "3     1268-677-1663  \n",
       "4   20715-079-20713  \n",
       "..              ...  \n",
       "95   16069-096-2331  \n",
       "96   16069-096-2331  \n",
       "97  20715-079-20713  \n",
       "98   16069-088-2331  \n",
       "99   16069-088-2331  \n",
       "\n",
       "[100 rows x 6 columns]"
      ]
     },
     "execution_count": 49,
     "metadata": {},
     "output_type": "execute_result"
    }
   ],
   "source": [
    "first_data_input"
   ]
  },
  {
   "cell_type": "code",
   "execution_count": 77,
   "metadata": {},
   "outputs": [],
   "source": [
    "# Преобразуем столбцы с датами в формат datetime\n",
    "first_data_input['OPERDATE'] = pd.to_datetime(first_data_input['OPERDATE'])\n",
    "\n",
    "# 1. Взять самую новую информацию по каждому вагону\n",
    "latest_data = first_data_input.sort_values(by='OPERDATE', ascending=False).groupby('WAGNUM').head(1)\n"
   ]
  },
  {
   "cell_type": "markdown",
   "metadata": {},
   "source": [
    "## Добавляем на карту поезда"
   ]
  },
  {
   "cell_type": "code",
   "execution_count": 84,
   "metadata": {},
   "outputs": [
    {
     "data": {
      "text/plain": [
       "True"
      ]
     },
     "execution_count": 84,
     "metadata": {},
     "output_type": "execute_result"
    }
   ],
   "source": [
    "\n",
    "for index, row in latest_data.iterrows():\n",
    "    # Добавляем маркер текущего расположения вагона\n",
    "    current_location = station_coord.loc[station_coord['ST_ID'] == row['ST_ID_DISL']]\n",
    "    if not current_location.empty:\n",
    "        folium.Marker(location=[current_location['LATITUDE'].values[0], current_location['LONGITUDE'].values[0]],\n",
    "                    popup=f\"Train: {row['TRAIN_INDEX']}, Destination: {row['ST_ID_DEST']}\").add_to(m)\n",
    "\n",
    "# 3. При нажатии на вагон отметить точку назначения текущего вагона\n",
    "for index, row in latest_data.iterrows():\n",
    "    # Добавляем всплывающий маркер для точки назначения\n",
    "    destination_location = station_coord.loc[station_coord['ST_ID'] == row['ST_ID_DEST']]\n",
    "    if not destination_location.empty:\n",
    "        folium.Marker(location=[destination_location['LATITUDE'].values[0], destination_location['LONGITUDE'].values[0]],\n",
    "                    popup=f\"Destination: {row['ST_ID_DEST']}\").add_to(m)\n",
    "\n",
    "# Сохраняем карту в HTML-файл\n",
    "m.save('train_map.html')\n",
    "webbrowser.open_new_tab('train_map.html')\n"
   ]
  },
  {
   "cell_type": "code",
   "execution_count": 81,
   "metadata": {},
   "outputs": [
    {
     "data": {
      "text/plain": [
       "True"
      ]
     },
     "execution_count": 81,
     "metadata": {},
     "output_type": "execute_result"
    }
   ],
   "source": [
    "# webbrowser.open_new_tab('train_map.html')"
   ]
  },
  {
   "cell_type": "markdown",
   "metadata": {},
   "source": [
    "## Пока не нужный код"
   ]
  },
  {
   "cell_type": "code",
   "execution_count": 51,
   "metadata": {},
   "outputs": [],
   "source": [
    "# Предположим, что first_data_input - это ваш исходный датафрейм\n",
    "# Сортируем по дате операции в обратном порядке и выбираем первую запись для каждого вагона\n",
    "latest_data = first_data_input.sort_values(by='OPERDATE', ascending=False).groupby('WAGNUM').first().reset_index()\n"
   ]
  },
  {
   "cell_type": "code",
   "execution_count": 52,
   "metadata": {},
   "outputs": [],
   "source": [
    "\n",
    "\n",
    "# Добавляем линии между соответствующими вершинами\n",
    "for index, row in peregon.iterrows():\n",
    "    start_station = station_coord.loc[station_coord['ST_ID'] == row['START_CODE']]\n",
    "    end_station = station_coord.loc[station_coord['ST_ID'] == row['END_CODE']]\n",
    "    \n",
    "    if not start_station.empty and not end_station.empty:\n",
    "        start_coords = [start_station['LATITUDE'].values[0], start_station['LONGITUDE'].values[0]]\n",
    "        end_coords = [end_station['LATITUDE'].values[0], end_station['LONGITUDE'].values[0]]\n",
    "        \n",
    "        folium.PolyLine(locations=[start_coords, end_coords], color='blue', weight=2, opacity=0.7).add_to(m)\n",
    "\n",
    "# Добавляем маркеры для текущего расположения вагона\n",
    "for index, row in latest_data.iterrows():\n",
    "    station = station_coord.loc[station_coord['ST_ID'] == row['ST_ID_DISL']]\n",
    "    if not station.empty:\n",
    "        coords = [station['LATITUDE'].values[0], station['LONGITUDE'].values[0]]\n",
    "        folium.Marker(location=coords, popup=f\"Wagon: {row['WAGNUM']}\").add_to(m)\n",
    "\n",
    "# Сохраняем карту в HTML-файл\n",
    "m.save('wagon_map.html')\n"
   ]
  },
  {
   "cell_type": "code",
   "execution_count": 53,
   "metadata": {},
   "outputs": [],
   "source": [
    "# Добавляем маркеры для точек назначения вагонов\n",
    "for index, row in latest_data.iterrows():\n",
    "    destination_station = station_coord.loc[station_coord['ST_ID'] == row['ST_ID_DEST']]\n",
    "    if not destination_station.empty:\n",
    "        destination_coords = [destination_station['LATITUDE'].values[0], destination_station['LONGITUDE'].values[0]]\n",
    "        \n",
    "        # Создаем маркер с точкой назначения\n",
    "        destination_marker = folium.Marker(location=destination_coords, popup=f\"Destination for Wagon {row['WAGNUM']}\")\n",
    "        \n",
    "        # Создаем всплывающее окно с информацией по вагону при нажатии\n",
    "        destination_marker.add_child(folium.Popup(f\"Wagon: {row['WAGNUM']}<br>Train Index: {row['TRAIN_INDEX']}\"))\n",
    "        \n",
    "        # Добавляем маркер точки назначения на карту\n",
    "        destination_marker.add_to(m)\n",
    "\n",
    "# Сохраняем карту в HTML-файл\n",
    "m.save('wagon_map_with_destination.html')\n"
   ]
  }
 ],
 "metadata": {
  "kernelspec": {
   "display_name": "Python 3",
   "language": "python",
   "name": "python3"
  },
  "language_info": {
   "codemirror_mode": {
    "name": "ipython",
    "version": 3
   },
   "file_extension": ".py",
   "mimetype": "text/x-python",
   "name": "python",
   "nbconvert_exporter": "python",
   "pygments_lexer": "ipython3",
   "version": "3.9.6"
  },
  "orig_nbformat": 4
 },
 "nbformat": 4,
 "nbformat_minor": 2
}
